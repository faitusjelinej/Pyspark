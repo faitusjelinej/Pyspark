{
 "cells": [
  {
   "cell_type": "code",
   "execution_count": 0,
   "metadata": {
    "application/vnd.databricks.v1+cell": {
     "cellMetadata": {
      "byteLimit": 2048000,
      "rowLimit": 10000
     },
     "inputWidgets": {},
     "nuid": "6755819d-3d39-4507-b2e1-ca00f82caa24",
     "showTitle": false,
     "title": ""
    }
   },
   "outputs": [
    {
     "output_type": "display_data",
     "data": {
      "text/html": [
       "\n",
       "            <div>\n",
       "                <p><b>SparkSession - hive</b></p>\n",
       "                \n",
       "        <div>\n",
       "            <p><b>SparkContext</b></p>\n",
       "\n",
       "            <p><a href=\"/?o=4013696145204055#setting/sparkui/1006-083034-k4eh7sih/driver-6544857532802055946\">Spark UI</a></p>\n",
       "\n",
       "            <dl>\n",
       "              <dt>Version</dt>\n",
       "                <dd><code>v3.3.2</code></dd>\n",
       "              <dt>Master</dt>\n",
       "                <dd><code>local[8]</code></dd>\n",
       "              <dt>AppName</dt>\n",
       "                <dd><code>Databricks Shell</code></dd>\n",
       "            </dl>\n",
       "        </div>\n",
       "        \n",
       "            </div>\n",
       "        "
      ]
     },
     "metadata": {
      "application/vnd.databricks.v1+output": {
       "addedWidgets": {},
       "arguments": {},
       "data": "\n            <div>\n                <p><b>SparkSession - hive</b></p>\n                \n        <div>\n            <p><b>SparkContext</b></p>\n\n            <p><a href=\"/?o=4013696145204055#setting/sparkui/1006-083034-k4eh7sih/driver-6544857532802055946\">Spark UI</a></p>\n\n            <dl>\n              <dt>Version</dt>\n                <dd><code>v3.3.2</code></dd>\n              <dt>Master</dt>\n                <dd><code>local[8]</code></dd>\n              <dt>AppName</dt>\n                <dd><code>Databricks Shell</code></dd>\n            </dl>\n        </div>\n        \n            </div>\n        ",
       "datasetInfos": [],
       "metadata": {},
       "removedWidgets": [],
       "textData": null,
       "type": "htmlSandbox"
      }
     },
     "output_type": "display_data"
    }
   ],
   "source": [
    "from pyspark.sql import SparkSession\n",
    "spark = SparkSession.builder.getOrCreate()\n",
    "spark"
   ]
  },
  {
   "cell_type": "code",
   "execution_count": 0,
   "metadata": {
    "application/vnd.databricks.v1+cell": {
     "cellMetadata": {
      "byteLimit": 2048000,
      "rowLimit": 10000
     },
     "inputWidgets": {},
     "nuid": "c85f9f0a-ab74-44a8-90ab-b372b9f2996e",
     "showTitle": false,
     "title": ""
    }
   },
   "outputs": [
    {
     "output_type": "stream",
     "name": "stdout",
     "output_type": "stream",
     "text": [
      "+----------+---+-----------+------+\n|first_name|age|deptartment|salary|\n+----------+---+-----------+------+\n|       Bob| 42|         IT|  2000|\n|      Lisa| 59|    Finance|  3000|\n|     Diane| 20|         IT|  5000|\n|     Janet| 60|    Finance|  7000|\n|    Calvin| 26|         IT|  4000|\n|     Elena| 24|    Finance|  6000|\n|      Bill| 50|         IT|  1000|\n|      Dawn| 33|    Finance|  8000|\n+----------+---+-----------+------+\n\nroot\n |-- first_name: string (nullable = true)\n |-- age: long (nullable = true)\n |-- deptartment: string (nullable = true)\n |-- salary: long (nullable = true)\n\n"
     ]
    }
   ],
   "source": [
    "employees = [(\"Bob\", 42, 'IT', 2000), \n",
    "           (\"Lisa\", 59,  'Finance', 3000), \n",
    "           (\"Diane\", 20,  'IT', 5000),\n",
    "           (\"Janet\", 60,  'Finance', 7000),\n",
    "            (\"Calvin\", 26, 'IT', 4000), \n",
    "           (\"Elena\", 24,  'Finance', 6000), \n",
    "           (\"Bill\", 50,  'IT', 1000),\n",
    "          (\"Dawn\", 33,  'Finance', 8000)]\n",
    "\n",
    "\n",
    "col = ['first_name', 'age', 'deptartment', 'salary']\n",
    "\n",
    "employeesdf = spark.createDataFrame(data = employees,schema = col)\n",
    "\n",
    "employeesdf.show()\n",
    "employeesdf.printSchema()"
   ]
  },
  {
   "cell_type": "code",
   "execution_count": 0,
   "metadata": {
    "application/vnd.databricks.v1+cell": {
     "cellMetadata": {
      "byteLimit": 2048000,
      "rowLimit": 10000
     },
     "inputWidgets": {},
     "nuid": "f2a59b42-30b5-4721-859c-17e063024cd0",
     "showTitle": false,
     "title": ""
    }
   },
   "outputs": [
    {
     "output_type": "stream",
     "name": "stdout",
     "output_type": "stream",
     "text": [
      "+----------+---+-----------+------+-------------------+--------------------+\n|first_name|age|deptartment|salary|percentage_increase|        current_time|\n+----------+---+-----------+------+-------------------+--------------------+\n|       Bob| 42|         IT|  2000|                 10|2023-10-06 08:34:...|\n|      Lisa| 59|    Finance|  3000|                 10|2023-10-06 08:34:...|\n|     Diane| 20|         IT|  5000|                 10|2023-10-06 08:34:...|\n|     Janet| 60|    Finance|  7000|                 10|2023-10-06 08:34:...|\n|    Calvin| 26|         IT|  4000|                 10|2023-10-06 08:34:...|\n|     Elena| 24|    Finance|  6000|                 10|2023-10-06 08:34:...|\n|      Bill| 50|         IT|  1000|                 10|2023-10-06 08:34:...|\n|      Dawn| 33|    Finance|  8000|                 10|2023-10-06 08:34:...|\n+----------+---+-----------+------+-------------------+--------------------+\n\nroot\n |-- first_name: string (nullable = true)\n |-- age: long (nullable = true)\n |-- deptartment: string (nullable = true)\n |-- salary: long (nullable = true)\n |-- percentage_increase: integer (nullable = false)\n |-- current_time: timestamp (nullable = false)\n\n"
     ]
    }
   ],
   "source": [
    "from pyspark.sql.functions import lit,current_timestamp\n",
    "\n",
    "employeesdf = employeesdf.withColumn(\"percentage_increase\",lit(10)) \\\n",
    "                    .withColumn(\"current_time\", current_timestamp()) \n",
    "employeesdf.show()\n",
    "employeesdf.printSchema()\n"
   ]
  },
  {
   "cell_type": "code",
   "execution_count": 0,
   "metadata": {
    "application/vnd.databricks.v1+cell": {
     "cellMetadata": {
      "byteLimit": 2048000,
      "rowLimit": 10000
     },
     "inputWidgets": {},
     "nuid": "2600ff7f-5cf6-4913-991a-4fe03b5d227f",
     "showTitle": false,
     "title": ""
    }
   },
   "outputs": [
    {
     "output_type": "stream",
     "name": "stdout",
     "output_type": "stream",
     "text": [
      "+----------+---+-----------+------+-------------------+--------------------+\n|first_name|age|deptartment|salary|percentage_increase|        current_time|\n+----------+---+-----------+------+-------------------+--------------------+\n|       Bob| 42|         IT|  2000|                 10|2023-10-06 08:34:...|\n|      Lisa| 59|    Finance|  3000|                 10|2023-10-06 08:34:...|\n|     Diane| 20|         IT|  5000|                 10|2023-10-06 08:34:...|\n|     Janet| 60|    Finance|  7000|                 10|2023-10-06 08:34:...|\n|    Calvin| 26|         IT|  4000|                 10|2023-10-06 08:34:...|\n|     Elena| 24|    Finance|  6000|                 10|2023-10-06 08:34:...|\n|      Bill| 50|         IT|  1000|                 10|2023-10-06 08:34:...|\n|      Dawn| 33|    Finance|  8000|                 10|2023-10-06 08:34:...|\n+----------+---+-----------+------+-------------------+--------------------+\n\nroot\n |-- first_name: string (nullable = true)\n |-- age: long (nullable = true)\n |-- deptartment: string (nullable = true)\n |-- salary: long (nullable = true)\n |-- percentage_increase: integer (nullable = false)\n |-- current_time: timestamp (nullable = false)\n\n"
     ]
    }
   ],
   "source": [
    "employeesdf = employeesdf.withColumn(\"percentage_increase\",lit(10)) \n",
    "employeesdf = employeesdf.withColumn(\"current_time\", current_timestamp()) \n",
    "employeesdf.show()\n",
    "employeesdf.printSchema()"
   ]
  },
  {
   "cell_type": "code",
   "execution_count": 0,
   "metadata": {
    "application/vnd.databricks.v1+cell": {
     "cellMetadata": {
      "byteLimit": 2048000,
      "rowLimit": 10000
     },
     "inputWidgets": {},
     "nuid": "5a2f1921-df1d-401e-b896-0a4995865531",
     "showTitle": false,
     "title": ""
    }
   },
   "outputs": [],
   "source": []
  },
  {
   "cell_type": "code",
   "execution_count": 0,
   "metadata": {
    "application/vnd.databricks.v1+cell": {
     "cellMetadata": {
      "byteLimit": 2048000,
      "rowLimit": 10000
     },
     "inputWidgets": {},
     "nuid": "5418224a-17b5-4b58-a3ef-7e0aae500c7a",
     "showTitle": false,
     "title": ""
    }
   },
   "outputs": [
    {
     "output_type": "stream",
     "name": "stdout",
     "output_type": "stream",
     "text": [
      "+----------+---+-----------+------+-------------------+--------------------+\n|first_name|age|deptartment|salary|percentage_increase|        current_time|\n+----------+---+-----------+------+-------------------+--------------------+\n|       Bob| 42|         IT|2200.0|                 10|2023-10-06 08:34:...|\n|      Lisa| 59|    Finance|3300.0|                 10|2023-10-06 08:34:...|\n|     Diane| 20|         IT|5500.0|                 10|2023-10-06 08:34:...|\n|     Janet| 60|    Finance|7700.0|                 10|2023-10-06 08:34:...|\n|    Calvin| 26|         IT|4400.0|                 10|2023-10-06 08:34:...|\n|     Elena| 24|    Finance|6600.0|                 10|2023-10-06 08:34:...|\n|      Bill| 50|         IT|1100.0|                 10|2023-10-06 08:34:...|\n|      Dawn| 33|    Finance|8800.0|                 10|2023-10-06 08:34:...|\n+----------+---+-----------+------+-------------------+--------------------+\n\nroot\n |-- first_name: string (nullable = true)\n |-- age: long (nullable = true)\n |-- deptartment: string (nullable = true)\n |-- salary: double (nullable = true)\n |-- percentage_increase: integer (nullable = false)\n |-- current_time: timestamp (nullable = false)\n\n"
     ]
    }
   ],
   "source": [
    "from pyspark.sql.functions import col\n",
    "employeesdf = employeesdf.withColumn(\"salary\",col(\"salary\") + (col(\"salary\")* (col(\"percentage_increase\")* 0.01)))\n",
    "employeesdf.show()\n",
    "employeesdf.printSchema()"
   ]
  },
  {
   "cell_type": "code",
   "execution_count": 0,
   "metadata": {
    "application/vnd.databricks.v1+cell": {
     "cellMetadata": {
      "byteLimit": 2048000,
      "rowLimit": 10000
     },
     "inputWidgets": {},
     "nuid": "de2dfad7-01ad-453a-8c22-ace697652188",
     "showTitle": false,
     "title": ""
    }
   },
   "outputs": [
    {
     "output_type": "stream",
     "name": "stdout",
     "output_type": "stream",
     "text": [
      "+----------+---+-----------+------+-------------------+--------------------+\n|first_name|age|deptartment|salary|percentage_increase|        current_time|\n+----------+---+-----------+------+-------------------+--------------------+\n|       Bob| 42|         IT|  2200|                 10|2023-10-06 08:34:...|\n|      Lisa| 59|    Finance|  3300|                 10|2023-10-06 08:34:...|\n|     Diane| 20|         IT|  5500|                 10|2023-10-06 08:34:...|\n|     Janet| 60|    Finance|  7700|                 10|2023-10-06 08:34:...|\n|    Calvin| 26|         IT|  4400|                 10|2023-10-06 08:34:...|\n|     Elena| 24|    Finance|  6600|                 10|2023-10-06 08:34:...|\n|      Bill| 50|         IT|  1100|                 10|2023-10-06 08:34:...|\n|      Dawn| 33|    Finance|  8800|                 10|2023-10-06 08:34:...|\n+----------+---+-----------+------+-------------------+--------------------+\n\nroot\n |-- first_name: string (nullable = true)\n |-- age: long (nullable = true)\n |-- deptartment: string (nullable = true)\n |-- salary: integer (nullable = true)\n |-- percentage_increase: integer (nullable = false)\n |-- current_time: timestamp (nullable = false)\n\n"
     ]
    }
   ],
   "source": [
    "employeesdf = employeesdf.withColumn(\"salary\",col(\"salary\").cast(\"Integer\"))\n",
    "employeesdf.show()\n",
    "employeesdf.printSchema()"
   ]
  },
  {
   "cell_type": "code",
   "execution_count": 0,
   "metadata": {
    "application/vnd.databricks.v1+cell": {
     "cellMetadata": {
      "byteLimit": 2048000,
      "rowLimit": 10000
     },
     "inputWidgets": {},
     "nuid": "a7307ad9-5709-4507-8a83-a7a736074972",
     "showTitle": false,
     "title": ""
    }
   },
   "outputs": [
    {
     "output_type": "stream",
     "name": "stdout",
     "output_type": "stream",
     "text": [
      "+----------+---+--------------------+------+-------------------+--------------------+\n|first_name|age|         deptartment|salary|percentage_increase|        current_time|\n+----------+---+--------------------+------+-------------------+--------------------+\n|       Bob| 42|Information Techn...|  2200|                 10|2023-10-06 08:34:...|\n|      Lisa| 59|             Finance|  3300|                 10|2023-10-06 08:34:...|\n|     Diane| 20|Information Techn...|  5500|                 10|2023-10-06 08:34:...|\n|     Janet| 60|             Finance|  7700|                 10|2023-10-06 08:34:...|\n|    Calvin| 26|Information Techn...|  4400|                 10|2023-10-06 08:34:...|\n|     Elena| 24|             Finance|  6600|                 10|2023-10-06 08:34:...|\n|      Bill| 50|Information Techn...|  1100|                 10|2023-10-06 08:34:...|\n|      Dawn| 33|             Finance|  8800|                 10|2023-10-06 08:34:...|\n+----------+---+--------------------+------+-------------------+--------------------+\n\n"
     ]
    }
   ],
   "source": [
    "from pyspark.sql.functions import when\n",
    "employeesdf = employeesdf.withColumn('deptartment', when(employeesdf['deptartment'] == \"IT\",\\\n",
    "                 \"Information Technology\").otherwise(employeesdf['deptartment']))\n",
    "employeesdf.show()"
   ]
  },
  {
   "cell_type": "code",
   "execution_count": 0,
   "metadata": {
    "application/vnd.databricks.v1+cell": {
     "cellMetadata": {
      "byteLimit": 2048000,
      "rowLimit": 10000
     },
     "inputWidgets": {},
     "nuid": "a49f0975-d98d-4661-854d-86e958250c40",
     "showTitle": false,
     "title": ""
    }
   },
   "outputs": [
    {
     "output_type": "stream",
     "name": "stdout",
     "output_type": "stream",
     "text": [
      "+----------+---+--------------------+------+----------------+--------------------+\n|first_name|age|         deptartment|salary|bonus_percentage|        current_time|\n+----------+---+--------------------+------+----------------+--------------------+\n|       Bob| 42|Information Techn...|  2200|              10|2023-10-06 08:34:...|\n|      Lisa| 59|             Finance|  3300|              10|2023-10-06 08:34:...|\n|     Diane| 20|Information Techn...|  5500|              10|2023-10-06 08:34:...|\n|     Janet| 60|             Finance|  7700|              10|2023-10-06 08:34:...|\n|    Calvin| 26|Information Techn...|  4400|              10|2023-10-06 08:34:...|\n|     Elena| 24|             Finance|  6600|              10|2023-10-06 08:34:...|\n|      Bill| 50|Information Techn...|  1100|              10|2023-10-06 08:34:...|\n|      Dawn| 33|             Finance|  8800|              10|2023-10-06 08:34:...|\n+----------+---+--------------------+------+----------------+--------------------+\n\n"
     ]
    }
   ],
   "source": [
    "employeesdf = employeesdf.withColumnRenamed(\"percentage_increase\",\"bonus_percentage\") \n",
    "\n",
    "employeesdf.show() "
   ]
  }
 ],
 "metadata": {
  "application/vnd.databricks.v1+notebook": {
   "dashboards": [],
   "language": "python",
   "notebookMetadata": {
    "pythonIndentUnit": 4
   },
   "notebookName": "new",
   "widgets": {}
  }
 },
 "nbformat": 4,
 "nbformat_minor": 0
}
