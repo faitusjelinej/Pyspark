{
 "cells": [
  {
   "cell_type": "code",
   "execution_count": 0,
   "metadata": {
    "application/vnd.databricks.v1+cell": {
     "cellMetadata": {
      "byteLimit": 2048000,
      "rowLimit": 10000
     },
     "inputWidgets": {},
     "nuid": "2604c2e2-f264-4db4-9ea3-13927e9c7b1c",
     "showTitle": false,
     "title": ""
    }
   },
   "outputs": [
    {
     "output_type": "display_data",
     "data": {
      "text/html": [
       "\n",
       "            <div>\n",
       "                <p><b>SparkSession - hive</b></p>\n",
       "                \n",
       "        <div>\n",
       "            <p><b>SparkContext</b></p>\n",
       "\n",
       "            <p><a href=\"/?o=4013696145204055#setting/sparkui/1102-230809-3ca0vn7l/driver-2700609884013509767\">Spark UI</a></p>\n",
       "\n",
       "            <dl>\n",
       "              <dt>Version</dt>\n",
       "                <dd><code>v3.3.2</code></dd>\n",
       "              <dt>Master</dt>\n",
       "                <dd><code>local[8]</code></dd>\n",
       "              <dt>AppName</dt>\n",
       "                <dd><code>Databricks Shell</code></dd>\n",
       "            </dl>\n",
       "        </div>\n",
       "        \n",
       "            </div>\n",
       "        "
      ]
     },
     "metadata": {
      "application/vnd.databricks.v1+output": {
       "addedWidgets": {},
       "arguments": {},
       "data": "\n            <div>\n                <p><b>SparkSession - hive</b></p>\n                \n        <div>\n            <p><b>SparkContext</b></p>\n\n            <p><a href=\"/?o=4013696145204055#setting/sparkui/1102-230809-3ca0vn7l/driver-2700609884013509767\">Spark UI</a></p>\n\n            <dl>\n              <dt>Version</dt>\n                <dd><code>v3.3.2</code></dd>\n              <dt>Master</dt>\n                <dd><code>local[8]</code></dd>\n              <dt>AppName</dt>\n                <dd><code>Databricks Shell</code></dd>\n            </dl>\n        </div>\n        \n            </div>\n        ",
       "datasetInfos": [],
       "metadata": {},
       "removedWidgets": [],
       "textData": null,
       "type": "htmlSandbox"
      }
     },
     "output_type": "display_data"
    }
   ],
   "source": [
    "from pyspark.sql import SparkSession\n",
    "spark = SparkSession.builder.getOrCreate()\n",
    "spark"
   ]
  },
  {
   "cell_type": "code",
   "execution_count": 0,
   "metadata": {
    "application/vnd.databricks.v1+cell": {
     "cellMetadata": {
      "byteLimit": 2048000,
      "rowLimit": 10000
     },
     "inputWidgets": {},
     "nuid": "82e4c66f-1619-4076-9828-45dcf5baae88",
     "showTitle": false,
     "title": ""
    }
   },
   "outputs": [
    {
     "output_type": "stream",
     "name": "stdout",
     "output_type": "stream",
     "text": [
      "root\n |-- Country: string (nullable = true)\n |-- medal: string (nullable = true)\n |-- count: long (nullable = true)\n\n+-------------+------+-----+\n|      Country| medal|count|\n+-------------+------+-----+\n|United States|  Gold|   39|\n|United States|Silver|   41|\n|United States|Bronze|   33|\n|        China|  Gold|   38|\n|        China|Silver|   32|\n|        China|Bronze|   19|\n|        Japan|  Gold|   27|\n|        Japan|Silver|   14|\n|        Japan|Bronze|   17|\n|Great Britain|  Gold|   22|\n|Great Britain|Silver|   20|\n|Great Britain|Bronze|   22|\n+-------------+------+-----+\n\n"
     ]
    }
   ],
   "source": [
    "olympics = [(\"United States\", \"Gold\", 39), \n",
    "             (\"United States\", \"Silver\", 41),\n",
    "             (\"United States\", \"Bronze\", 33),\n",
    "             (\"China\", \"Gold\", 38), \n",
    "             (\"China\", \"Silver\", 32),\n",
    "             (\"China\", \"Bronze\", 19),\n",
    "             (\"Japan\", \"Gold\", 27), \n",
    "             (\"Japan\", \"Silver\", 14),\n",
    "             (\"Japan\", \"Bronze\", 17),\n",
    "             (\"Great Britain\", \"Gold\", 22), \n",
    "             (\"Great Britain\", \"Silver\", 20),\n",
    "             (\"Great Britain\", \"Bronze\", 22)          \n",
    "             ]\n",
    "\n",
    "\n",
    "col = ['Country', 'medal', 'count']\n",
    "\n",
    "olympicsdf = spark.createDataFrame(data = olympics,schema = col)\n",
    "\n",
    "olympicsdf.printSchema()\n",
    "olympicsdf.show()"
   ]
  },
  {
   "cell_type": "code",
   "execution_count": 0,
   "metadata": {
    "application/vnd.databricks.v1+cell": {
     "cellMetadata": {
      "byteLimit": 2048000,
      "rowLimit": 10000
     },
     "inputWidgets": {},
     "nuid": "dd5ccbff-bd4d-4f46-9506-05edc3291c1b",
     "showTitle": false,
     "title": ""
    }
   },
   "outputs": [
    {
     "output_type": "stream",
     "name": "stdout",
     "output_type": "stream",
     "text": [
      "root\n |-- Country: string (nullable = true)\n |-- sum(count): long (nullable = true)\n\n+-------------+----------+\n|Country      |sum(count)|\n+-------------+----------+\n|United States|113       |\n|China        |89        |\n|Japan        |58        |\n|Great Britain|64        |\n+-------------+----------+\n\n"
     ]
    }
   ],
   "source": [
    "pivotDF = olympicsdf.groupBy(\"Country\").sum(\"count\")\n",
    "pivotDF.printSchema()\n",
    "pivotDF.show(truncate=False)"
   ]
  },
  {
   "cell_type": "code",
   "execution_count": 0,
   "metadata": {
    "application/vnd.databricks.v1+cell": {
     "cellMetadata": {
      "byteLimit": 2048000,
      "rowLimit": 10000
     },
     "inputWidgets": {},
     "nuid": "bbf34336-ff73-4438-8883-e84a2232415b",
     "showTitle": false,
     "title": ""
    }
   },
   "outputs": [
    {
     "output_type": "stream",
     "name": "stdout",
     "output_type": "stream",
     "text": [
      "root\n |-- Country: string (nullable = true)\n |-- Bronze: long (nullable = true)\n |-- Gold: long (nullable = true)\n |-- Silver: long (nullable = true)\n\n+-------------+------+----+------+\n|Country      |Bronze|Gold|Silver|\n+-------------+------+----+------+\n|Great Britain|22    |22  |20    |\n|United States|33    |39  |41    |\n|China        |19    |38  |32    |\n|Japan        |17    |27  |14    |\n+-------------+------+----+------+\n\n+-------------+----+------+\n|Country      |Gold|Silver|\n+-------------+----+------+\n|Great Britain|22  |20    |\n|United States|39  |41    |\n|China        |38  |32    |\n|Japan        |27  |14    |\n+-------------+----+------+\n\n"
     ]
    }
   ],
   "source": [
    "pivotDF = olympicsdf.groupBy(\"Country\").pivot(\"medal\").sum(\"count\")\n",
    "pivotDF.printSchema()\n",
    "pivotDF.show(truncate=False)\n",
    "\n",
    "\n",
    "pivotDF1 = olympicsdf.groupBy(\"Country\").pivot(\"medal\",['Gold','Silver']).sum(\"count\")\n",
    "pivotDF1.show(truncate=False)\n"
   ]
  },
  {
   "cell_type": "code",
   "execution_count": 0,
   "metadata": {
    "application/vnd.databricks.v1+cell": {
     "cellMetadata": {
      "byteLimit": 2048000,
      "rowLimit": 10000
     },
     "inputWidgets": {},
     "nuid": "33aaaf9b-451d-4836-b343-6236c111d61d",
     "showTitle": false,
     "title": ""
    }
   },
   "outputs": [
    {
     "output_type": "stream",
     "name": "stdout",
     "output_type": "stream",
     "text": [
      "+-------------+-----+-----+\n|      Country|medal|Total|\n+-------------+-----+-----+\n|Great Britain|    G|   22|\n|Great Britain|    S|   20|\n|Great Britain|    B|   22|\n|United States|    G|   39|\n|United States|    S|   41|\n|United States|    B|   33|\n|        China|    G|   38|\n|        China|    S|   32|\n|        China|    B|   19|\n|        Japan|    G|   27|\n|        Japan|    S|   14|\n|        Japan|    B|   17|\n+-------------+-----+-----+\n\n"
     ]
    }
   ],
   "source": [
    "from pyspark.sql.functions import expr\n",
    "unpivotExpr = \"stack(3, 'G', Gold, 'S', Silver, 'B', Bronze) as (medal,Total)\"\n",
    "unPivotDF = pivotDF.select(\"Country\", expr(unpivotExpr)) \n",
    "unPivotDF.show()"
   ]
  }
 ],
 "metadata": {
  "application/vnd.databricks.v1+notebook": {
   "dashboards": [],
   "language": "python",
   "notebookMetadata": {
    "pythonIndentUnit": 4
   },
   "notebookName": "pivot_unpivot",
   "widgets": {}
  }
 },
 "nbformat": 4,
 "nbformat_minor": 0
}
