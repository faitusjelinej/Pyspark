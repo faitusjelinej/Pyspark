{
 "cells": [
  {
   "cell_type": "code",
   "execution_count": 15,
   "id": "3faf877c-0a4c-42d3-b19f-ea08b4b5fb51",
   "metadata": {
    "tags": []
   },
   "outputs": [],
   "source": [
    "from pyspark.sql import SparkSession\n",
    "spark = SparkSession.builder.getOrCreate()"
   ]
  },
  {
   "cell_type": "code",
   "execution_count": 16,
   "id": "fee48e5e-74f5-47c8-ade8-2af82f9569de",
   "metadata": {
    "tags": []
   },
   "outputs": [],
   "source": [
    "dataset = [(\"Bob\", 42, 'IT', 2000), \n",
    "           (\"Lisa\", 59,  'Finance', 3000), \n",
    "           (\"Diane\", 20,  'IT', 5000),\n",
    "           (\"Janet\", 60,  'Finance', 7000),\n",
    "           (\"Calvin\", 26, 'IT', 4000), \n",
    "           (\"Elena\", 24,  'Finance', 6000), \n",
    "           (\"Bill\", 50,  'IT', 1000),\n",
    "           (\"Dawn\", 33,  'Finance', 8000),\n",
    "            (\"Ken\", 66,  'IT',4500), \n",
    "           (\"Lee\", 21, 'Finance',6500), \n",
    "           (\"Asha\", 53, 'IT',1500),\n",
    "          (\"Marsh\", 34,'Finance', 8500)]\n",
    "\n",
    "col = ['first_name', 'age', 'deptartment', 'salary']\n",
    "\n",
    "employeedf = spark.createDataFrame(data = dataset,schema = col)"
   ]
  },
  {
   "cell_type": "code",
   "execution_count": 17,
   "id": "81221e5e-4d67-4862-9dc5-fcc2bf41ff23",
   "metadata": {
    "tags": []
   },
   "outputs": [
    {
     "name": "stdout",
     "output_type": "stream",
     "text": [
      "+----------+---+-----------+------+\n",
      "|first_name|age|deptartment|salary|\n",
      "+----------+---+-----------+------+\n",
      "|       Bob| 42|         IT|  2000|\n",
      "|      Lisa| 59|    Finance|  3000|\n",
      "|     Diane| 20|         IT|  5000|\n",
      "|     Janet| 60|    Finance|  7000|\n",
      "|    Calvin| 26|         IT|  4000|\n",
      "|     Elena| 24|    Finance|  6000|\n",
      "|      Bill| 50|         IT|  1000|\n",
      "|      Dawn| 33|    Finance|  8000|\n",
      "|       Ken| 66|         IT|  4500|\n",
      "|       Lee| 21|    Finance|  6500|\n",
      "|      Asha| 53|         IT|  1500|\n",
      "|     Marsh| 34|    Finance|  8500|\n",
      "+----------+---+-----------+------+\n",
      "\n"
     ]
    }
   ],
   "source": [
    "employeedf.show()"
   ]
  },
  {
   "cell_type": "code",
   "execution_count": 19,
   "id": "e17e174e-8fae-43d2-866c-5828e3c3ff1e",
   "metadata": {
    "tags": []
   },
   "outputs": [],
   "source": [
    "employeedf.write.option(\"header\",True) \\\n",
    "        .partitionBy(\"deptartment\") \\\n",
    "        .mode(\"overwrite\") \\\n",
    "        .csv(\"employee\")"
   ]
  },
  {
   "cell_type": "code",
   "execution_count": null,
   "id": "6f7e3926-8f73-4891-ac45-27bdc74d5f70",
   "metadata": {},
   "outputs": [],
   "source": [
    "emp = [(\"Bob\", 42, 'Sales', 2000), \n",
    "           (\"Lisa\", 59,  'Finance', 3000), \n",
    "           (\"Diane\", 20,  'IT', 5000),\n",
    "           (\"Janet\", 60,  'Finance', 7000),\n",
    "           (\"Calvin\", 26, 'IT', 4000), \n",
    "           (\"Elena\", 24,  'Sales', 6000), \n",
    "           (\"Bill\", 50,  'IT', 1000),\n",
    "           (\"Dawn\", 33,  'Finance', 8000),\n",
    "            (\"Ken\", 66,  'IT',4500), \n",
    "           (\"Lee\", 21, 'Sales',6500), \n",
    "           (\"Asha\", 53, 'IT',1500),\n",
    "          (\"Marsh\", 34,'Finance', 8500)]\n",
    "\n",
    "col = ['first_name', 'age', 'deptartment', 'salary']\n",
    "\n",
    "empdf = spark.createDataFrame(data = emp,schema = col)"
   ]
  },
  {
   "cell_type": "code",
   "execution_count": null,
   "id": "38b1f062-27a3-4201-a380-0e030e7b032a",
   "metadata": {},
   "outputs": [],
   "source": [
    "empdf.show()"
   ]
  },
  {
   "cell_type": "code",
   "execution_count": null,
   "id": "01eb9261-81ad-4607-afe0-3511138c0f27",
   "metadata": {},
   "outputs": [],
   "source": [
    "empdf.coalesce(2) \\\n",
    "        .write.option(\"header\",True) \\\n",
    "        .mode(\"overwrite\") \\\n",
    "        .csv(\"emp\")"
   ]
  },
  {
   "cell_type": "code",
   "execution_count": null,
   "id": "9b2710ab-ca49-4627-abef-b67618a21fe3",
   "metadata": {},
   "outputs": [],
   "source": [
    "location1df.repartition(2) \\\n",
    "        .write.option(\"header\",True) \\\n",
    "        .mode(\"overwrite\") \\\n",
    "        .csv(\"emp1\")"
   ]
  }
 ],
 "metadata": {
  "kernelspec": {
   "display_name": "Python 3 (ipykernel)",
   "language": "python",
   "name": "python3"
  },
  "language_info": {
   "codemirror_mode": {
    "name": "ipython",
    "version": 3
   },
   "file_extension": ".py",
   "mimetype": "text/x-python",
   "name": "python",
   "nbconvert_exporter": "python",
   "pygments_lexer": "ipython3",
   "version": "3.10.11"
  }
 },
 "nbformat": 4,
 "nbformat_minor": 5
}
