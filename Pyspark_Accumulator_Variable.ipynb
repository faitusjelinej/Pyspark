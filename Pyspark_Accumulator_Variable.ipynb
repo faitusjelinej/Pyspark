{
 "cells": [
  {
   "cell_type": "code",
   "execution_count": 1,
   "id": "70c26812-8442-4254-ad8b-cf9f88a1339e",
   "metadata": {
    "tags": []
   },
   "outputs": [
    {
     "data": {
      "text/html": [
       "\n",
       "            <div>\n",
       "                <p><b>SparkSession - in-memory</b></p>\n",
       "                \n",
       "        <div>\n",
       "            <p><b>SparkContext</b></p>\n",
       "\n",
       "            <p><a href=\"http://fb8cb9eeeabe:4040\">Spark UI</a></p>\n",
       "\n",
       "            <dl>\n",
       "              <dt>Version</dt>\n",
       "                <dd><code>v3.4.0</code></dd>\n",
       "              <dt>Master</dt>\n",
       "                <dd><code>local[*]</code></dd>\n",
       "              <dt>AppName</dt>\n",
       "                <dd><code>pyspark-shell</code></dd>\n",
       "            </dl>\n",
       "        </div>\n",
       "        \n",
       "            </div>\n",
       "        "
      ],
      "text/plain": [
       "<pyspark.sql.session.SparkSession at 0x7f822ce2c6a0>"
      ]
     },
     "execution_count": 1,
     "metadata": {},
     "output_type": "execute_result"
    }
   ],
   "source": [
    "import pyspark\n",
    "from pyspark.sql import SparkSession\n",
    "spark = SparkSession.builder.getOrCreate()\n",
    "sc = spark.sparkContext\n",
    "spark"
   ]
  },
  {
   "cell_type": "code",
   "execution_count": 2,
   "id": "ffef8f6b-a20e-49c8-acc2-ddddb2a62e9e",
   "metadata": {
    "tags": []
   },
   "outputs": [],
   "source": [
    "game = [('USA', 'Germany', 9),\n",
    "       ('Germany','Italy', 5),\n",
    "       ('Italy','India', 2),\n",
    "       ('India', 'Italy', 4),\n",
    "       ('France','USA', 1),\n",
    "       ('Italy','India', 2),\n",
    "       ('USA','France', 3),\n",
    "       ('India','France', 7)]\n"
   ]
  },
  {
   "cell_type": "code",
   "execution_count": 3,
   "id": "170afd35-590e-49b0-9938-6647fc87dcf6",
   "metadata": {
    "tags": []
   },
   "outputs": [
    {
     "name": "stdout",
     "output_type": "stream",
     "text": [
      "root\n",
      " |-- home_country: string (nullable = true)\n",
      " |-- host_country: string (nullable = true)\n",
      " |-- matches: long (nullable = true)\n",
      "\n",
      "+------------+------------+-------+\n",
      "|home_country|host_country|matches|\n",
      "+------------+------------+-------+\n",
      "|         USA|     Germany|      9|\n",
      "|     Germany|       Italy|      5|\n",
      "|       Italy|       India|      2|\n",
      "|       India|       Italy|      4|\n",
      "|      France|         USA|      1|\n",
      "|       Italy|       India|      2|\n",
      "|         USA|      France|      3|\n",
      "|       India|      France|      7|\n",
      "+------------+------------+-------+\n",
      "\n"
     ]
    }
   ],
   "source": [
    "df = spark.createDataFrame(game, schema=[\"home_country\",\"host_country\",\"matches\"])\n",
    "df.printSchema()\n",
    "df.show()"
   ]
  },
  {
   "cell_type": "code",
   "execution_count": 5,
   "id": "c3a6e018-d995-44a4-99cc-93e9f9e589dc",
   "metadata": {
    "tags": []
   },
   "outputs": [
    {
     "data": {
      "text/plain": [
       "Accumulator<id=1, value=0>"
      ]
     },
     "execution_count": 5,
     "metadata": {},
     "output_type": "execute_result"
    }
   ],
   "source": [
    "matchcounter = sc.accumulator(0)\n",
    "matchcounter"
   ]
  },
  {
   "cell_type": "code",
   "execution_count": 6,
   "id": "36d251ce-e3d3-4907-a564-114b919c9dee",
   "metadata": {
    "tags": []
   },
   "outputs": [],
   "source": [
    "def counterfn(match_num):\n",
    "    home = match_num[\"home_country\"]\n",
    "    host = match_num[\"host_country\"]\n",
    "    if home == 'India' or host == 'India':\n",
    "        matchcounter.add(match_num[\"matches\"])\n",
    "    "
   ]
  },
  {
   "cell_type": "code",
   "execution_count": 7,
   "id": "eae2404d-7dea-47be-8d54-86cd99b8d583",
   "metadata": {
    "tags": []
   },
   "outputs": [],
   "source": [
    "df.foreach(lambda match_num : counterfn(match_num))"
   ]
  },
  {
   "cell_type": "code",
   "execution_count": 8,
   "id": "bd4fdec6-25f1-4921-8124-795cf4b0efc6",
   "metadata": {
    "tags": []
   },
   "outputs": [
    {
     "data": {
      "text/plain": [
       "15"
      ]
     },
     "execution_count": 8,
     "metadata": {},
     "output_type": "execute_result"
    }
   ],
   "source": [
    "matchcounter.value"
   ]
  },
  {
   "cell_type": "code",
   "execution_count": null,
   "id": "11481706-8bde-400c-a050-f394c28b27d9",
   "metadata": {},
   "outputs": [],
   "source": []
  }
 ],
 "metadata": {
  "kernelspec": {
   "display_name": "Python 3 (ipykernel)",
   "language": "python",
   "name": "python3"
  },
  "language_info": {
   "codemirror_mode": {
    "name": "ipython",
    "version": 3
   },
   "file_extension": ".py",
   "mimetype": "text/x-python",
   "name": "python",
   "nbconvert_exporter": "python",
   "pygments_lexer": "ipython3",
   "version": "3.10.11"
  }
 },
 "nbformat": 4,
 "nbformat_minor": 5
}
