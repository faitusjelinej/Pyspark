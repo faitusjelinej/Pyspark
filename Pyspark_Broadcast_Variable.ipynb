{
 "cells": [
  {
   "cell_type": "code",
   "execution_count": 4,
   "id": "529bc011-c8a4-41ee-8e63-6e563febdeaf",
   "metadata": {
    "tags": []
   },
   "outputs": [
    {
     "data": {
      "text/html": [
       "\n",
       "            <div>\n",
       "                <p><b>SparkSession - in-memory</b></p>\n",
       "                \n",
       "        <div>\n",
       "            <p><b>SparkContext</b></p>\n",
       "\n",
       "            <p><a href=\"http://fb8cb9eeeabe:4040\">Spark UI</a></p>\n",
       "\n",
       "            <dl>\n",
       "              <dt>Version</dt>\n",
       "                <dd><code>v3.4.0</code></dd>\n",
       "              <dt>Master</dt>\n",
       "                <dd><code>local[*]</code></dd>\n",
       "              <dt>AppName</dt>\n",
       "                <dd><code>pyspark-shell</code></dd>\n",
       "            </dl>\n",
       "        </div>\n",
       "        \n",
       "            </div>\n",
       "        "
      ],
      "text/plain": [
       "<pyspark.sql.session.SparkSession at 0x7f90a08746a0>"
      ]
     },
     "execution_count": 4,
     "metadata": {},
     "output_type": "execute_result"
    }
   ],
   "source": [
    "import pyspark\n",
    "from pyspark.sql import SparkSession\n",
    "spark = SparkSession.builder.getOrCreate()\n",
    "sc = spark.sparkContext\n",
    "spark"
   ]
  },
  {
   "cell_type": "code",
   "execution_count": 5,
   "id": "78122ec4-e77d-4a9a-95ca-d87fe148a523",
   "metadata": {
    "tags": []
   },
   "outputs": [],
   "source": [
    "status_map = {\"M\": \"Married\", \"S\": \"Single\"}\n",
    "\n",
    "data = [\n",
    "    (1,\"Kim\",\"M\",74),\n",
    "    (2,\"Jan\",\"S\",93),\n",
    "    (3,\"Dawn\",\"S\",60),\n",
    "    (4,\"Lee\",\"M\",46),\n",
    "    (5,\"Peter\",\"M\",60),\n",
    "    (6,\"George\",\"S\",80)\n",
    "]"
   ]
  },
  {
   "cell_type": "code",
   "execution_count": 7,
   "id": "e0a1cd12-e658-4bda-9481-6d69a326a88c",
   "metadata": {
    "tags": []
   },
   "outputs": [
    {
     "name": "stdout",
     "output_type": "stream",
     "text": [
      "root\n",
      " |-- id: long (nullable = true)\n",
      " |-- name: string (nullable = true)\n",
      " |-- status: string (nullable = true)\n",
      " |-- marks: long (nullable = true)\n",
      "\n",
      "+---+------+------+-----+\n",
      "| id|  name|status|marks|\n",
      "+---+------+------+-----+\n",
      "|  1|   Kim|     M|   74|\n",
      "|  2|   Jan|     S|   93|\n",
      "|  3|  Dawn|     S|   60|\n",
      "|  4|   Lee|     M|   46|\n",
      "|  5| Peter|     M|   60|\n",
      "|  6|George|     S|   80|\n",
      "+---+------+------+-----+\n",
      "\n"
     ]
    }
   ],
   "source": [
    "# creating broadcast variable and storing the information in broadcast_status variable\n",
    "broadcast_status = sc.broadcast(status_map)\n",
    "\n",
    " \n",
    "df = spark.createDataFrame(data, schema=[\"id\",\"name\",\"status\",\"marks\"])\n",
    "df.printSchema()\n",
    "df.show()"
   ]
  },
  {
   "cell_type": "code",
   "execution_count": 8,
   "id": "7e0a1a07-e11c-4a78-871d-3e2b49ded15c",
   "metadata": {
    "tags": []
   },
   "outputs": [
    {
     "data": {
      "text/plain": [
       "'Married'"
      ]
     },
     "execution_count": 8,
     "metadata": {},
     "output_type": "execute_result"
    }
   ],
   "source": [
    "broadcast_status.value[\"M\"]"
   ]
  },
  {
   "cell_type": "code",
   "execution_count": 9,
   "id": "aa6d42a9-3805-45e5-8d88-64ee133fcf15",
   "metadata": {
    "tags": []
   },
   "outputs": [
    {
     "name": "stdout",
     "output_type": "stream",
     "text": [
      "+---+------+------+-----+-----------+\n",
      "| id|  name|status|marks|status_info|\n",
      "+---+------+------+-----+-----------+\n",
      "|  1|   Kim|     M|   74|    Married|\n",
      "|  2|   Jan|     S|   93|     Single|\n",
      "|  3|  Dawn|     S|   60|     Single|\n",
      "|  4|   Lee|     M|   46|    Married|\n",
      "|  5| Peter|     M|   60|    Married|\n",
      "|  6|George|     S|   80|     Single|\n",
      "+---+------+------+-----+-----------+\n",
      "\n"
     ]
    }
   ],
   "source": [
    "from pyspark.sql.functions import col, udf\n",
    " \n",
    "\n",
    "def convert_status(char):\n",
    "    return broadcast_status.value[char]\n",
    " \n",
    "convert_status = udf(convert_status)\n",
    "   \n",
    "\n",
    "df_2 = df.withColumn(\"status_info\", convert_status(col(\"status\")))\n",
    "df_2.show()"
   ]
  },
  {
   "cell_type": "code",
   "execution_count": null,
   "id": "c71e2df5-35a6-47d0-bdd4-062ebc2ac30e",
   "metadata": {},
   "outputs": [],
   "source": []
  }
 ],
 "metadata": {
  "kernelspec": {
   "display_name": "Python 3 (ipykernel)",
   "language": "python",
   "name": "python3"
  },
  "language_info": {
   "codemirror_mode": {
    "name": "ipython",
    "version": 3
   },
   "file_extension": ".py",
   "mimetype": "text/x-python",
   "name": "python",
   "nbconvert_exporter": "python",
   "pygments_lexer": "ipython3",
   "version": "3.10.11"
  }
 },
 "nbformat": 4,
 "nbformat_minor": 5
}
