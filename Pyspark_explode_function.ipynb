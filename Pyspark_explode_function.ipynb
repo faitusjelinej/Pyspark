{
 "cells": [
  {
   "cell_type": "code",
   "execution_count": 1,
   "id": "8a3386b1-716d-4702-bf79-d12b776babcc",
   "metadata": {
    "tags": []
   },
   "outputs": [
    {
     "data": {
      "text/html": [
       "\n",
       "            <div>\n",
       "                <p><b>SparkSession - in-memory</b></p>\n",
       "                \n",
       "        <div>\n",
       "            <p><b>SparkContext</b></p>\n",
       "\n",
       "            <p><a href=\"http://fb8cb9eeeabe:4041\">Spark UI</a></p>\n",
       "\n",
       "            <dl>\n",
       "              <dt>Version</dt>\n",
       "                <dd><code>v3.4.0</code></dd>\n",
       "              <dt>Master</dt>\n",
       "                <dd><code>local[*]</code></dd>\n",
       "              <dt>AppName</dt>\n",
       "                <dd><code>pyspark-shell</code></dd>\n",
       "            </dl>\n",
       "        </div>\n",
       "        \n",
       "            </div>\n",
       "        "
      ],
      "text/plain": [
       "<pyspark.sql.session.SparkSession at 0x7f76ad8006a0>"
      ]
     },
     "execution_count": 1,
     "metadata": {},
     "output_type": "execute_result"
    }
   ],
   "source": [
    "import pyspark\n",
    "from pyspark.sql import SparkSession\n",
    "spark = SparkSession.builder.getOrCreate()\n",
    "spark"
   ]
  },
  {
   "cell_type": "code",
   "execution_count": 50,
   "id": "aae0afd2-a403-43d5-b24f-79f39a4ecfa3",
   "metadata": {
    "tags": []
   },
   "outputs": [],
   "source": [
    "arrayData = [\n",
    "        ('Bob',['New York','Boston']),\n",
    "        ('Kim',['Los Angeles','Chicago',None]),\n",
    "        ('Lee',['Phoenix','']),\n",
    "        ('Peter',None),\n",
    "        ('Sam',['San Diego','Dallas'])]\n",
    "\n",
    "col = ['name','location']"
   ]
  },
  {
   "cell_type": "code",
   "execution_count": 51,
   "id": "843128d6-1cf6-4546-ac02-629f9e17654e",
   "metadata": {
    "tags": []
   },
   "outputs": [
    {
     "name": "stdout",
     "output_type": "stream",
     "text": [
      "root\n",
      " |-- name: string (nullable = true)\n",
      " |-- location: array (nullable = true)\n",
      " |    |-- element: string (containsNull = true)\n",
      "\n",
      "+-----+--------------------+\n",
      "| name|            location|\n",
      "+-----+--------------------+\n",
      "|  Bob|  [New York, Boston]|\n",
      "|  Kim|[Los Angeles, Chi...|\n",
      "|  Lee|         [Phoenix, ]|\n",
      "|Peter|                null|\n",
      "|  Sam| [San Diego, Dallas]|\n",
      "+-----+--------------------+\n",
      "\n"
     ]
    }
   ],
   "source": [
    "df = spark.createDataFrame(data=arrayData, schema=col)\n",
    "df.printSchema()\n",
    "df.show()"
   ]
  },
  {
   "cell_type": "code",
   "execution_count": 42,
   "id": "964c19bf-7a8e-41d7-8859-c386b11c62eb",
   "metadata": {
    "tags": []
   },
   "outputs": [
    {
     "name": "stdout",
     "output_type": "stream",
     "text": [
      "root\n",
      " |-- name: string (nullable = true)\n",
      " |-- col: string (nullable = true)\n",
      "\n",
      "+----+-----------+\n",
      "|name|        col|\n",
      "+----+-----------+\n",
      "| Bob|   New York|\n",
      "| Bob|     Boston|\n",
      "| Kim|Los Angeles|\n",
      "| Kim|    Chicago|\n",
      "| Kim|       null|\n",
      "| Lee|    Phoenix|\n",
      "| Lee|           |\n",
      "| Sam|  San Diego|\n",
      "| Sam|     Dallas|\n",
      "+----+-----------+\n",
      "\n"
     ]
    }
   ],
   "source": [
    "from pyspark.sql.functions import explode\n",
    "df2 = df.select(df.name,explode(df.location))\n",
    "df2.printSchema()\n",
    "df2.show()"
   ]
  },
  {
   "cell_type": "code",
   "execution_count": 45,
   "id": "6041284a-91e1-4115-81fc-ceeefc7709e3",
   "metadata": {
    "tags": []
   },
   "outputs": [
    {
     "name": "stdout",
     "output_type": "stream",
     "text": [
      "root\n",
      " |-- name: string (nullable = true)\n",
      " |-- pos: integer (nullable = false)\n",
      " |-- col: string (nullable = true)\n",
      "\n",
      "+----+---+-----------+\n",
      "|name|pos|        col|\n",
      "+----+---+-----------+\n",
      "| Bob|  0|   New York|\n",
      "| Bob|  1|     Boston|\n",
      "| Kim|  0|Los Angeles|\n",
      "| Kim|  1|    Chicago|\n",
      "| Kim|  2|       null|\n",
      "| Lee|  0|    Phoenix|\n",
      "| Lee|  1|           |\n",
      "| Sam|  0|  San Diego|\n",
      "| Sam|  1|     Dallas|\n",
      "+----+---+-----------+\n",
      "\n"
     ]
    }
   ],
   "source": [
    "from pyspark.sql.functions import posexplode\n",
    "df2 = df.select(df.name,posexplode(df.location))\n",
    "df2.printSchema()\n",
    "df2.show()"
   ]
  },
  {
   "cell_type": "code",
   "execution_count": 43,
   "id": "f18f58f3-37d7-43ee-9002-991d329b857e",
   "metadata": {
    "tags": []
   },
   "outputs": [
    {
     "name": "stdout",
     "output_type": "stream",
     "text": [
      "root\n",
      " |-- name: string (nullable = true)\n",
      " |-- col: string (nullable = true)\n",
      "\n",
      "+-----+-----------+\n",
      "| name|        col|\n",
      "+-----+-----------+\n",
      "|  Bob|   New York|\n",
      "|  Bob|     Boston|\n",
      "|  Kim|Los Angeles|\n",
      "|  Kim|    Chicago|\n",
      "|  Kim|       null|\n",
      "|  Lee|    Phoenix|\n",
      "|  Lee|           |\n",
      "|Peter|       null|\n",
      "|  Sam|  San Diego|\n",
      "|  Sam|     Dallas|\n",
      "+-----+-----------+\n",
      "\n"
     ]
    }
   ],
   "source": [
    "from pyspark.sql.functions import explode_outer\n",
    "df2 = df.select(df.name,explode_outer(df.location))\n",
    "df2.printSchema()\n",
    "df2.show()"
   ]
  },
  {
   "cell_type": "code",
   "execution_count": 52,
   "id": "f5452081-45f7-4a3b-bd25-e2536bb7868a",
   "metadata": {
    "tags": []
   },
   "outputs": [
    {
     "name": "stdout",
     "output_type": "stream",
     "text": [
      "root\n",
      " |-- name: string (nullable = true)\n",
      " |-- pos: integer (nullable = true)\n",
      " |-- col: string (nullable = true)\n",
      "\n",
      "+-----+----+-----------+\n",
      "| name| pos|        col|\n",
      "+-----+----+-----------+\n",
      "|  Bob|   0|   New York|\n",
      "|  Bob|   1|     Boston|\n",
      "|  Kim|   0|Los Angeles|\n",
      "|  Kim|   1|    Chicago|\n",
      "|  Kim|   2|       null|\n",
      "|  Lee|   0|    Phoenix|\n",
      "|  Lee|   1|           |\n",
      "|Peter|null|       null|\n",
      "|  Sam|   0|  San Diego|\n",
      "|  Sam|   1|     Dallas|\n",
      "+-----+----+-----------+\n",
      "\n"
     ]
    }
   ],
   "source": [
    "from pyspark.sql.functions import posexplode_outer\n",
    "df2 = df.select(df.name,posexplode_outer(df.location))\n",
    "df2.printSchema()\n",
    "df2.show()"
   ]
  },
  {
   "cell_type": "code",
   "execution_count": null,
   "id": "7128726e-d270-4bb5-8a24-c115babdd865",
   "metadata": {
    "tags": []
   },
   "outputs": [],
   "source": []
  },
  {
   "cell_type": "code",
   "execution_count": 53,
   "id": "9df249ee-5b80-4a87-a0a6-0ccc5910b72e",
   "metadata": {
    "tags": []
   },
   "outputs": [],
   "source": [
    "mapData = [\n",
    "        ('Bob',{'cuisine':'Chinese','color':'blue'}),\n",
    "        ('Kim',{'cuisine':'Indian','color':None}),\n",
    "        ('Lee',{'cuisine':'Japanese','color':''}),\n",
    "        ('Peter',None),\n",
    "        ('Sam',{})]\n",
    "\n",
    "col = ['name','favorites']"
   ]
  },
  {
   "cell_type": "code",
   "execution_count": 54,
   "id": "26911683-2501-4a96-9046-7e3b35579795",
   "metadata": {
    "tags": []
   },
   "outputs": [
    {
     "name": "stdout",
     "output_type": "stream",
     "text": [
      "root\n",
      " |-- name: string (nullable = true)\n",
      " |-- favorites: map (nullable = true)\n",
      " |    |-- key: string\n",
      " |    |-- value: string (valueContainsNull = true)\n",
      "\n",
      "+-----+--------------------+\n",
      "| name|           favorites|\n",
      "+-----+--------------------+\n",
      "|  Bob|{color -> blue, c...|\n",
      "|  Kim|{color -> null, c...|\n",
      "|  Lee|{color -> , cuisi...|\n",
      "|Peter|                null|\n",
      "|  Sam|                  {}|\n",
      "+-----+--------------------+\n",
      "\n"
     ]
    }
   ],
   "source": [
    "df = spark.createDataFrame(data=mapData, schema = col)\n",
    "df.printSchema()\n",
    "df.show()"
   ]
  },
  {
   "cell_type": "code",
   "execution_count": 11,
   "id": "b5eca349-931d-4cbf-9c8c-5426b3785e32",
   "metadata": {
    "tags": []
   },
   "outputs": [
    {
     "name": "stdout",
     "output_type": "stream",
     "text": [
      "root\n",
      " |-- name: string (nullable = true)\n",
      " |-- key: string (nullable = false)\n",
      " |-- value: string (nullable = true)\n",
      "\n",
      "+----+-------+--------+\n",
      "|name|    key|   value|\n",
      "+----+-------+--------+\n",
      "| Bob|  color|    blue|\n",
      "| Bob|cuisine| Chinese|\n",
      "| Kim|  color|    null|\n",
      "| Kim|cuisine|  Indian|\n",
      "| Lee|  color|        |\n",
      "| Lee|cuisine|Japanese|\n",
      "+----+-------+--------+\n",
      "\n"
     ]
    }
   ],
   "source": [
    "from pyspark.sql.functions import explode\n",
    "df2 = df.select(df.name,explode(df.favorites))\n",
    "df2.printSchema()\n",
    "df2.show()"
   ]
  },
  {
   "cell_type": "code",
   "execution_count": 49,
   "id": "86b47585-e93f-44bb-b0e1-ccd8147c1e1d",
   "metadata": {
    "tags": []
   },
   "outputs": [
    {
     "name": "stdout",
     "output_type": "stream",
     "text": [
      "root\n",
      " |-- name: string (nullable = true)\n",
      " |-- pos: integer (nullable = false)\n",
      " |-- key: string (nullable = false)\n",
      " |-- value: string (nullable = true)\n",
      "\n",
      "+----+---+-------+--------+\n",
      "|name|pos|    key|   value|\n",
      "+----+---+-------+--------+\n",
      "| Bob|  0|  color|    blue|\n",
      "| Bob|  1|cuisine| Chinese|\n",
      "| Kim|  0|  color|    null|\n",
      "| Kim|  1|cuisine|  Indian|\n",
      "| Lee|  0|  color|        |\n",
      "| Lee|  1|cuisine|Japanese|\n",
      "+----+---+-------+--------+\n",
      "\n"
     ]
    }
   ],
   "source": [
    "from pyspark.sql.functions import posexplode\n",
    "df2 = df.select(df.name,posexplode(df.favorites))\n",
    "df2.printSchema()\n",
    "df2.show()"
   ]
  },
  {
   "cell_type": "code",
   "execution_count": 14,
   "id": "e33b6cff-820a-47e6-b615-a8fd8067e6fe",
   "metadata": {
    "tags": []
   },
   "outputs": [
    {
     "name": "stdout",
     "output_type": "stream",
     "text": [
      "root\n",
      " |-- name: string (nullable = true)\n",
      " |-- key: string (nullable = true)\n",
      " |-- value: string (nullable = true)\n",
      "\n",
      "+-----+-------+--------+\n",
      "| name|    key|   value|\n",
      "+-----+-------+--------+\n",
      "|  Bob|  color|    blue|\n",
      "|  Bob|cuisine| Chinese|\n",
      "|  Kim|  color|    null|\n",
      "|  Kim|cuisine|  Indian|\n",
      "|  Lee|  color|        |\n",
      "|  Lee|cuisine|Japanese|\n",
      "|Peter|   null|    null|\n",
      "|  Sam|   null|    null|\n",
      "+-----+-------+--------+\n",
      "\n"
     ]
    }
   ],
   "source": [
    "from pyspark.sql.functions import explode_outer\n",
    "df2 = df.select(df.name,explode_outer(df.favorites))\n",
    "df2.printSchema()\n",
    "df2.show()"
   ]
  },
  {
   "cell_type": "code",
   "execution_count": 58,
   "id": "4aff8eaa-f268-48b4-b637-2f0d35135e5b",
   "metadata": {
    "tags": []
   },
   "outputs": [
    {
     "name": "stdout",
     "output_type": "stream",
     "text": [
      "root\n",
      " |-- name: string (nullable = true)\n",
      " |-- pos: integer (nullable = true)\n",
      " |-- key: string (nullable = true)\n",
      " |-- value: string (nullable = true)\n",
      "\n",
      "+-----+----+-------+--------+\n",
      "| name| pos|    key|   value|\n",
      "+-----+----+-------+--------+\n",
      "|  Bob|   0|  color|    blue|\n",
      "|  Bob|   1|cuisine| Chinese|\n",
      "|  Kim|   0|  color|    null|\n",
      "|  Kim|   1|cuisine|  Indian|\n",
      "|  Lee|   0|  color|        |\n",
      "|  Lee|   1|cuisine|Japanese|\n",
      "|Peter|null|   null|    null|\n",
      "|  Sam|null|   null|    null|\n",
      "+-----+----+-------+--------+\n",
      "\n"
     ]
    }
   ],
   "source": [
    "from pyspark.sql.functions import posexplode_outer\n",
    "df2 = df.select(df.name,posexplode_outer(df.favorites))\n",
    "df2.printSchema()\n",
    "df2.show()"
   ]
  },
  {
   "cell_type": "code",
   "execution_count": null,
   "id": "1cbd96aa-2d40-48b5-9cc2-34125eb0eae1",
   "metadata": {},
   "outputs": [],
   "source": []
  }
 ],
 "metadata": {
  "kernelspec": {
   "display_name": "Python 3 (ipykernel)",
   "language": "python",
   "name": "python3"
  },
  "language_info": {
   "codemirror_mode": {
    "name": "ipython",
    "version": 3
   },
   "file_extension": ".py",
   "mimetype": "text/x-python",
   "name": "python",
   "nbconvert_exporter": "python",
   "pygments_lexer": "ipython3",
   "version": "3.10.11"
  }
 },
 "nbformat": 4,
 "nbformat_minor": 5
}
