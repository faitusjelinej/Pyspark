{
 "cells": [
  {
   "cell_type": "code",
   "execution_count": null,
   "id": "4dd77b08-2aae-4116-8b5b-4de86dc04889",
   "metadata": {},
   "outputs": [],
   "source": []
  },
  {
   "cell_type": "code",
   "execution_count": 1,
   "id": "03f75e9c-1529-4435-b2c4-560a1628e81e",
   "metadata": {
    "tags": []
   },
   "outputs": [],
   "source": [
    "# Import and create a SparkSession:\n",
    "\n",
    "from pyspark.sql import SparkSession\n",
    "spark = SparkSession.builder.getOrCreate()\n"
   ]
  },
  {
   "cell_type": "code",
   "execution_count": 3,
   "id": "7099e56d-151e-48c1-8ed4-cb40090b3bf7",
   "metadata": {
    "tags": []
   },
   "outputs": [],
   "source": [
    "location1 = [(\"Bob\", 42, 'IT', 2000), \n",
    "           (\"Lisa\", 59,  'Finance', 3000), \n",
    "           (\"Diane\", 20,  'IT', 5000),\n",
    "          (\"Janet\", 60,  'Finance', 7000)]\n",
    "\n",
    "location2 = [(\"Calvin\", 26, 'IT', 4000), \n",
    "           (\"Elena\", 24,  'Finance', 6000), \n",
    "           (\"Bill\", 50,  'IT', 1000),\n",
    "          (\"Dawn\", 33,  'Finance', 8000)]\n",
    "\n",
    "col = ['first_name', 'age', 'deptartment', 'salary']\n",
    "\n",
    "location1df = spark.createDataFrame(data = location1,schema = col)"
   ]
  },
  {
   "cell_type": "code",
   "execution_count": 5,
   "id": "4fae27fa-6e79-4854-a4e5-3dbcfed14b68",
   "metadata": {
    "tags": []
   },
   "outputs": [
    {
     "name": "stdout",
     "output_type": "stream",
     "text": [
      "+----------+---+-----------+------+\n",
      "|first_name|age|deptartment|salary|\n",
      "+----------+---+-----------+------+\n",
      "|       Bob| 42|         IT|  2000|\n",
      "|      Lisa| 59|    Finance|  3000|\n",
      "|     Diane| 20|         IT|  5000|\n",
      "|     Janet| 60|    Finance|  7000|\n",
      "+----------+---+-----------+------+\n",
      "\n"
     ]
    }
   ],
   "source": [
    "location1df.show()"
   ]
  },
  {
   "cell_type": "code",
   "execution_count": 6,
   "id": "97556cef-abea-4286-b499-4ef731a496f2",
   "metadata": {
    "tags": []
   },
   "outputs": [
    {
     "name": "stdout",
     "output_type": "stream",
     "text": [
      "root\n",
      " |-- first_name: string (nullable = true)\n",
      " |-- age: long (nullable = true)\n",
      " |-- deptartment: string (nullable = true)\n",
      " |-- salary: long (nullable = true)\n",
      "\n"
     ]
    }
   ],
   "source": [
    "location1df.printSchema()"
   ]
  },
  {
   "cell_type": "code",
   "execution_count": 7,
   "id": "a33c3cc6-ba63-428f-b2eb-f75aabe45d02",
   "metadata": {
    "tags": []
   },
   "outputs": [],
   "source": [
    "location2df = spark.createDataFrame(data = location2,schema = col)"
   ]
  },
  {
   "cell_type": "code",
   "execution_count": 18,
   "id": "c2e3bf0d-fed1-48a4-b792-ff7992b4c3e9",
   "metadata": {
    "tags": []
   },
   "outputs": [
    {
     "name": "stdout",
     "output_type": "stream",
     "text": [
      "+----------+---+-----------+------+\n",
      "|first_name|age|deptartment|salary|\n",
      "+----------+---+-----------+------+\n",
      "|    Calvin| 26|         IT|  4000|\n",
      "|     Elena| 24|    Finance|  6000|\n",
      "|      Bill| 50|         IT|  1000|\n",
      "|      Dawn| 33|    Finance|  8000|\n",
      "+----------+---+-----------+------+\n",
      "\n"
     ]
    }
   ],
   "source": [
    "location2df.show()"
   ]
  },
  {
   "cell_type": "code",
   "execution_count": 9,
   "id": "d21a5171-bd76-44be-a4a5-1840876dc723",
   "metadata": {
    "tags": []
   },
   "outputs": [
    {
     "name": "stdout",
     "output_type": "stream",
     "text": [
      "root\n",
      " |-- first_name: string (nullable = true)\n",
      " |-- age: long (nullable = true)\n",
      " |-- deptartment: string (nullable = true)\n",
      " |-- salary: long (nullable = true)\n",
      "\n"
     ]
    }
   ],
   "source": [
    "location2df.printSchema()"
   ]
  },
  {
   "cell_type": "code",
   "execution_count": 31,
   "id": "bc616994-8f1c-4cc2-89ff-ce5a9cb2b81a",
   "metadata": {
    "tags": []
   },
   "outputs": [
    {
     "name": "stdout",
     "output_type": "stream",
     "text": [
      "+----------+---+-----------+------+\n",
      "|first_name|age|deptartment|salary|\n",
      "+----------+---+-----------+------+\n",
      "|       Bob| 42|         IT|  2000|\n",
      "|      Lisa| 59|    Finance|  3000|\n",
      "|     Diane| 20|         IT|  5000|\n",
      "|     Janet| 60|    Finance|  7000|\n",
      "|    Calvin| 26|         IT|  4000|\n",
      "|     Elena| 24|    Finance|  6000|\n",
      "|      Bill| 50|         IT|  1000|\n",
      "|      Dawn| 33|    Finance|  8000|\n",
      "+----------+---+-----------+------+\n",
      "\n"
     ]
    }
   ],
   "source": [
    "location = location1df.union(location2df)\n",
    "location.show()"
   ]
  },
  {
   "cell_type": "code",
   "execution_count": 28,
   "id": "b556e43c-5deb-43ab-9425-3cbdc820c765",
   "metadata": {
    "tags": []
   },
   "outputs": [],
   "source": [
    "location3 = [(\"Ken\", 66, 4500, 'IT'), \n",
    "           (\"Lee\", 21, 6500,'Finance'), \n",
    "           (\"Asha\", 53, 1500,'IT'),\n",
    "          (\"Marsh\", 34, 8500,'Finance')]\n",
    "\n",
    "\n",
    "col1 = ['first_name', 'age', 'salary','deptartment']"
   ]
  },
  {
   "cell_type": "code",
   "execution_count": 24,
   "id": "633eb0fd-5fe0-45e8-a460-7b491f7acf9e",
   "metadata": {
    "tags": []
   },
   "outputs": [],
   "source": [
    "location3df = spark.createDataFrame(data = location3,schema = col1)"
   ]
  },
  {
   "cell_type": "code",
   "execution_count": 32,
   "id": "3a681152-f92f-46b8-8c10-f874c644937e",
   "metadata": {
    "tags": []
   },
   "outputs": [
    {
     "name": "stdout",
     "output_type": "stream",
     "text": [
      "+----------+---+------+-----------+\n",
      "|first_name|age|salary|deptartment|\n",
      "+----------+---+------+-----------+\n",
      "|       Ken| 66|  4500|         IT|\n",
      "|       Lee| 21|  6500|    Finance|\n",
      "|      Asha| 53|  1500|         IT|\n",
      "|     Marsh| 34|  8500|    Finance|\n",
      "+----------+---+------+-----------+\n",
      "\n"
     ]
    }
   ],
   "source": [
    "location3df.show()"
   ]
  },
  {
   "cell_type": "code",
   "execution_count": 33,
   "id": "32c9f886-5a2e-4581-97f7-b9afc48b154a",
   "metadata": {
    "tags": []
   },
   "outputs": [
    {
     "name": "stdout",
     "output_type": "stream",
     "text": [
      "+----------+---+-----------+-------+\n",
      "|first_name|age|deptartment| salary|\n",
      "+----------+---+-----------+-------+\n",
      "|       Bob| 42|         IT|   2000|\n",
      "|      Lisa| 59|    Finance|   3000|\n",
      "|     Diane| 20|         IT|   5000|\n",
      "|     Janet| 60|    Finance|   7000|\n",
      "|       Ken| 66|       4500|     IT|\n",
      "|       Lee| 21|       6500|Finance|\n",
      "|      Asha| 53|       1500|     IT|\n",
      "|     Marsh| 34|       8500|Finance|\n",
      "+----------+---+-----------+-------+\n",
      "\n"
     ]
    }
   ],
   "source": [
    "location1 = location1df.union(location3df)\n",
    "location1.show()"
   ]
  },
  {
   "cell_type": "code",
   "execution_count": 34,
   "id": "6d516b65-ffa9-4665-893e-7d22775263e9",
   "metadata": {
    "tags": []
   },
   "outputs": [
    {
     "name": "stdout",
     "output_type": "stream",
     "text": [
      "+----------+---+-----------+------+\n",
      "|first_name|age|deptartment|salary|\n",
      "+----------+---+-----------+------+\n",
      "|       Bob| 42|         IT|  2000|\n",
      "|      Lisa| 59|    Finance|  3000|\n",
      "|     Diane| 20|         IT|  5000|\n",
      "|     Janet| 60|    Finance|  7000|\n",
      "|       Ken| 66|         IT|  4500|\n",
      "|       Lee| 21|    Finance|  6500|\n",
      "|      Asha| 53|         IT|  1500|\n",
      "|     Marsh| 34|    Finance|  8500|\n",
      "+----------+---+-----------+------+\n",
      "\n"
     ]
    }
   ],
   "source": [
    "location2 = location1df.unionByName(location3df)\n",
    "location2.show()"
   ]
  },
  {
   "cell_type": "code",
   "execution_count": 38,
   "id": "a40d2a0d-89d1-4e73-bd0f-219d69ba2430",
   "metadata": {
    "tags": []
   },
   "outputs": [],
   "source": [
    "location4 = [(1001,\"Rich\", 44, 4500, 'IT'), \n",
    "           (1002,\"Raj\", 33, 6500,'Finance'), \n",
    "           (1003,\"Kevin\", 55, 1500,'IT'),\n",
    "          (1004,\"Sam\", 44, 8500,'Finance')]\n",
    "\n",
    "col4 = ['Empid','first_name', 'age', 'salary','deptartment']"
   ]
  },
  {
   "cell_type": "code",
   "execution_count": 39,
   "id": "fa0a09c2-2eb4-4465-9c59-b6db246c1b55",
   "metadata": {
    "tags": []
   },
   "outputs": [],
   "source": [
    "col4 = ['Empid','first_name', 'age', 'salary','deptartment']"
   ]
  },
  {
   "cell_type": "code",
   "execution_count": 40,
   "id": "a6e04a02-a9e1-4aa4-8488-7a5cfdd22cf5",
   "metadata": {
    "tags": []
   },
   "outputs": [],
   "source": [
    "location4df = spark.createDataFrame(data = location4,schema = col4)"
   ]
  },
  {
   "cell_type": "code",
   "execution_count": 41,
   "id": "f21e77c4-db22-43e9-a859-622822615cb6",
   "metadata": {
    "tags": []
   },
   "outputs": [
    {
     "name": "stdout",
     "output_type": "stream",
     "text": [
      "+-----+----------+---+------+-----------+\n",
      "|Empid|first_name|age|salary|deptartment|\n",
      "+-----+----------+---+------+-----------+\n",
      "| 1001|      Rich| 44|  4500|         IT|\n",
      "| 1002|       Raj| 33|  6500|    Finance|\n",
      "| 1003|     Kevin| 55|  1500|         IT|\n",
      "| 1004|       Sam| 44|  8500|    Finance|\n",
      "+-----+----------+---+------+-----------+\n",
      "\n"
     ]
    }
   ],
   "source": [
    "location4df.show()"
   ]
  },
  {
   "cell_type": "code",
   "execution_count": 42,
   "id": "08ad0df5-29b8-4453-a070-02d74561e31c",
   "metadata": {
    "tags": []
   },
   "outputs": [],
   "source": [
    "from pyspark.sql.functions import lit\n",
    "\n",
    "location2 = location1df.withColumn(\"Empid\",lit(None))"
   ]
  },
  {
   "cell_type": "code",
   "execution_count": 43,
   "id": "6661b9b6-2a09-4a4e-aba3-f77cddc23621",
   "metadata": {
    "tags": []
   },
   "outputs": [
    {
     "name": "stdout",
     "output_type": "stream",
     "text": [
      "+-----+----------+---+------+-----------+\n",
      "|Empid|first_name|age|salary|deptartment|\n",
      "+-----+----------+---+------+-----------+\n",
      "| 1001|      Rich| 44|  4500|         IT|\n",
      "| 1002|       Raj| 33|  6500|    Finance|\n",
      "| 1003|     Kevin| 55|  1500|         IT|\n",
      "| 1004|       Sam| 44|  8500|    Finance|\n",
      "| null|       Bob| 42|  2000|         IT|\n",
      "| null|      Lisa| 59|  3000|    Finance|\n",
      "| null|     Diane| 20|  5000|         IT|\n",
      "| null|     Janet| 60|  7000|    Finance|\n",
      "| null|       Ken| 66|  4500|         IT|\n",
      "| null|       Lee| 21|  6500|    Finance|\n",
      "| null|      Asha| 53|  1500|         IT|\n",
      "| null|     Marsh| 34|  8500|    Finance|\n",
      "+-----+----------+---+------+-----------+\n",
      "\n"
     ]
    }
   ],
   "source": [
    "location4df.unionByName(location2).show()"
   ]
  },
  {
   "cell_type": "code",
   "execution_count": 45,
   "id": "dfc30bb2-86ca-412e-8eb2-6e54208598d4",
   "metadata": {
    "tags": []
   },
   "outputs": [
    {
     "name": "stdout",
     "output_type": "stream",
     "text": [
      "+----------+---+-----------+-------+-----+\n",
      "|first_name|age|deptartment| salary|Empid|\n",
      "+----------+---+-----------+-------+-----+\n",
      "|       Bob| 42|         IT|   2000| null|\n",
      "|      Lisa| 59|    Finance|   3000| null|\n",
      "|     Diane| 20|         IT|   5000| null|\n",
      "|     Janet| 60|    Finance|   7000| null|\n",
      "|       Ken| 66|       4500|     IT| null|\n",
      "|       Lee| 21|       6500|Finance| null|\n",
      "|      Asha| 53|       1500|     IT| null|\n",
      "|     Marsh| 34|       8500|Finance| null|\n",
      "|      Rich| 44|         IT|   4500| 1001|\n",
      "|       Raj| 33|    Finance|   6500| 1002|\n",
      "|     Kevin| 55|         IT|   1500| 1003|\n",
      "|       Sam| 44|    Finance|   8500| 1004|\n",
      "+----------+---+-----------+-------+-----+\n",
      "\n"
     ]
    }
   ],
   "source": [
    "location1df.unionByName(location4df, allowMissingColumns = True).show()"
   ]
  },
  {
   "cell_type": "code",
   "execution_count": null,
   "id": "1be27136-58bd-401a-b2c5-24f3bdbf2463",
   "metadata": {
    "tags": []
   },
   "outputs": [],
   "source": []
  },
  {
   "cell_type": "code",
   "execution_count": null,
   "id": "bc33b750-9b88-4825-aa52-640a626a51d2",
   "metadata": {},
   "outputs": [],
   "source": []
  }
 ],
 "metadata": {
  "kernelspec": {
   "display_name": "Python 3 (ipykernel)",
   "language": "python",
   "name": "python3"
  },
  "language_info": {
   "codemirror_mode": {
    "name": "ipython",
    "version": 3
   },
   "file_extension": ".py",
   "mimetype": "text/x-python",
   "name": "python",
   "nbconvert_exporter": "python",
   "pygments_lexer": "ipython3",
   "version": "3.10.11"
  }
 },
 "nbformat": 4,
 "nbformat_minor": 5
}
